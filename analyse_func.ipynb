{
 "cells": [
  {
   "cell_type": "markdown",
   "metadata": {},
   "source": [
    "### Test Rotary"
   ]
  },
  {
   "cell_type": "code",
   "execution_count": 11,
   "metadata": {},
   "outputs": [],
   "source": [
    "import torch\n",
    "\n",
    "\n",
    "def rotate_half(x: torch.Tensor) -> torch.Tensor:\n",
    "    x1, x2 = x.chunk(2, dim=-1)\n",
    "    print(\"Upper parts: \", x1)\n",
    "    print(\"Lower parts: \", x2)\n",
    "    return torch.cat((-x2, x1), dim=-1)"
   ]
  },
  {
   "cell_type": "code",
   "execution_count": 12,
   "metadata": {},
   "outputs": [
    {
     "name": "stdout",
     "output_type": "stream",
     "text": [
      "Upper parts:  tensor([[1., 2.],\n",
      "        [5., 6.]])\n",
      "Lower parts:  tensor([[3., 4.],\n",
      "        [7., 8.]])\n",
      "Rotated Tensor:  tensor([[-3., -4.,  1.,  2.],\n",
      "        [-7., -8.,  5.,  6.]])\n"
     ]
    }
   ],
   "source": [
    "# Rotate tensor half \n",
    "# Split x to two parts -> Get minus second parts\n",
    "\n",
    "x = torch.tensor([[1.0, 2.0, 3.0, 4.0],\n",
    "                  [5.0, 6.0, 7.0, 8.0]])\n",
    "\n",
    "\n",
    "rotated_x = rotate_half(x)\n",
    "print(\"Rotated Tensor: \", rotated_x)"
   ]
  },
  {
   "cell_type": "code",
   "execution_count": 13,
   "metadata": {},
   "outputs": [
    {
     "name": "stdout",
     "output_type": "stream",
     "text": [
      "torch.Size([2, 4])\n"
     ]
    }
   ],
   "source": [
    "print(x.shape)"
   ]
  },
  {
   "cell_type": "code",
   "execution_count": 19,
   "metadata": {},
   "outputs": [
    {
     "name": "stdout",
     "output_type": "stream",
     "text": [
      "Tensor Input:  tensor([[[0.3231, 0.2923, 0.4934, 0.9970, 0.9905],\n",
      "         [0.8022, 0.9191, 0.1804, 0.7899, 0.8109],\n",
      "         [0.7117, 0.4325, 0.8002, 0.1907, 0.3352]],\n",
      "\n",
      "        [[0.4153, 0.8777, 0.9577, 0.5532, 0.1991],\n",
      "         [0.4991, 0.9591, 0.5959, 0.2305, 0.1422],\n",
      "         [0.8311, 0.9891, 0.6399, 0.2774, 0.0896]]])\n",
      "Shape Tensor Input:  torch.Size([2, 3, 5])\n",
      "Upper parts:  tensor([[[0.3231, 0.2923, 0.4934, 0.9970, 0.9905],\n",
      "         [0.8022, 0.9191, 0.1804, 0.7899, 0.8109]],\n",
      "\n",
      "        [[0.4153, 0.8777, 0.9577, 0.5532, 0.1991],\n",
      "         [0.4991, 0.9591, 0.5959, 0.2305, 0.1422]]])\n",
      "Shape Upper parts:  torch.Size([2, 2, 5])\n",
      "Lower parts:  tensor([[[0.7117, 0.4325, 0.8002, 0.1907, 0.3352]],\n",
      "\n",
      "        [[0.8311, 0.9891, 0.6399, 0.2774, 0.0896]]])\n",
      "Shape Lower parts:  torch.Size([2, 1, 5])\n"
     ]
    }
   ],
   "source": [
    "x = torch.rand(2, 3, 5)\n",
    "print(\"Tensor Input: \", x)\n",
    "print(\"Shape Tensor Input: \", x.shape)\n",
    "x1, x2 = x.chunk(2, dim=1)\n",
    "print(\"Upper parts: \", x1)\n",
    "print(\"Shape Upper parts: \", x1.shape)\n",
    "print(\"Lower parts: \", x2)\n",
    "print(\"Shape Lower parts: \", x2.shape)"
   ]
  },
  {
   "cell_type": "code",
   "execution_count": null,
   "metadata": {},
   "outputs": [],
   "source": [
    "### Apply Rope\n",
    "def apply_rope(q, k, cos, sin):\n",
    "    q = (q * cos) + (rotate_half(q) * sin)\n",
    "    k = (k * cos) + (rotate_half(k) * sin)\n",
    "    return q, k\n",
    "\n",
    "def apply_rope_x(x, cos, sin):\n",
    "    return (x * cos) + (rotate_half(x) * sin)"
   ]
  }
 ],
 "metadata": {
  "kernelspec": {
   "display_name": "paper",
   "language": "python",
   "name": "python3"
  },
  "language_info": {
   "codemirror_mode": {
    "name": "ipython",
    "version": 3
   },
   "file_extension": ".py",
   "mimetype": "text/x-python",
   "name": "python",
   "nbconvert_exporter": "python",
   "pygments_lexer": "ipython3",
   "version": "3.10.16"
  }
 },
 "nbformat": 4,
 "nbformat_minor": 2
}
